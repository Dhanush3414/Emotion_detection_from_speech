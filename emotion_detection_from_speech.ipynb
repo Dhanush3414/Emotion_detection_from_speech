{
  "nbformat": 4,
  "nbformat_minor": 0,
  "metadata": {
    "colab": {
      "provenance": []
    },
    "kernelspec": {
      "name": "python3",
      "display_name": "Python 3"
    },
    "language_info": {
      "name": "python"
    }
  },
  "cells": [
    {
      "cell_type": "code",
      "execution_count": null,
      "metadata": {
        "id": "Rm3b4-5ubfNR"
      },
      "outputs": [],
      "source": [
        "import speech_recognition as sr\n",
        "from transformers import pipeline\n",
        "\n",
        "# Load the emotion detection model globally\n",
        "emotion_classifier = pipeline(\n",
        "    \"text-classification\",\n",
        "    model=\"bhadresh-savani/distilbert-base-uncased-emotion\"\n",
        ")\n",
        "\n",
        "def recognize_speech_from_mic():\n",
        "    \"\"\"Capture speech from microphone and convert to text.\"\"\"\n",
        "    recognizer = sr.Recognizer()\n",
        "\n",
        "    try:\n",
        "        mic = sr.Microphone()\n",
        "    except OSError:\n",
        "        print(\"No microphone found.\")\n",
        "        return None\n",
        "\n",
        "    with mic as source:\n",
        "        print(\"Please speak something...\")\n",
        "        recognizer.adjust_for_ambient_noise(source)\n",
        "        audio = recognizer.listen(source)\n",
        "\n",
        "    try:\n",
        "        print(\"Recognizing...\")\n",
        "        text = recognizer.recognize_google(audio)\n",
        "        print(f\"You said: {text}\")\n",
        "        return text\n",
        "    except sr.RequestError:\n",
        "        print(\"Could not request results from Google Speech Recognition service.\")\n",
        "        return None\n",
        "    except sr.UnknownValueError:\n",
        "        print(\"Could not understand audio.\")\n",
        "        return None\n",
        "\n",
        "def detect_emotion_from_text(text):\n",
        "    \"\"\"Detect emotion from a given text input.\"\"\"\n",
        "    if not text:\n",
        "        return None\n",
        "\n",
        "    try:\n",
        "        emotions = emotion_classifier(text)\n",
        "        return emotions\n",
        "    except Exception as e:\n",
        "        print(f\"Error detecting emotion: {e}\")\n",
        "        return None\n",
        "\n",
        "# Example usage\n",
        "if __name__ == \"__main__\":\n",
        "    spoken_text = recognize_speech_from_mic()\n",
        "    if spoken_text:\n",
        "        emotions = detect_emotion_from_text(spoken_text)\n",
        "        print(\"Detected emotions:\", emotions)\n"
      ]
    }
  ]
}